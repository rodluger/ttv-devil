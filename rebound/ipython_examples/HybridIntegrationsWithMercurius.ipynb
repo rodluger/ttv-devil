{
 "cells": [
  {
   "cell_type": "markdown",
   "metadata": {
    "deletable": true,
    "editable": true
   },
   "source": [
    "# Hybrid integrations with MERCURIUS\n",
    "REBOUND comes with several integrators, each of which has its own advantages and disadvantages. MERCURIUS is a hybrid integrastor that is very similar to the hybrid integrator in John Chambers' Mercury code (J. E. Chambers 1999). It uses a symplectic Wisdom-Holman integrator when particles are far apart from each other and switches over to a high order integrator during close encounters. Specifically, MERCURIUS uses the efficient WHFast and IAS15 integrators internally."
   ]
  },
  {
   "cell_type": "markdown",
   "metadata": {
    "deletable": true,
    "editable": true
   },
   "source": [
    "Let's start out by showcasing the problem with traditional fixed timestep integrators such as WHFast. We setup a simulation of the outer solar system and increase the masses of the planets by a factor of 50. "
   ]
  },
  {
   "cell_type": "code",
   "execution_count": 6,
   "metadata": {
    "collapsed": false,
    "deletable": true,
    "editable": true
   },
   "outputs": [
    {
     "data": {
      "image/png": "[encoded data removed]",
      "text/plain": [
       "<matplotlib.figure.Figure at 0x10429e7f0>"
      ]
     },
     "execution_count": 6,
     "metadata": {},
     "output_type": "execute_result"
    }
   ],
   "source": [
    "import math\n",
    "import rebound, rebound.data\n",
    "sim = rebound.Simulation()\n",
    "rebound.data.add_outer_solar_system(sim) # add some particles for testing\n",
    "for i in range(1,sim.N):\n",
    "    sim.particles[i].m *= 50.\n",
    "sim.integrator = \"WHFast\" # This will end badly!\n",
    "sim.dt = sim.particles[1].P * 0.002 # Timestep a small fraction of innermost planet's period\n",
    "sim.move_to_com()\n",
    "E0 = sim.calculate_energy() # Calculate initial energy \n",
    "rebound.OrbitPlot(sim)"
   ]
  },
  {
   "cell_type": "markdown",
   "metadata": {
    "deletable": true,
    "editable": true
   },
   "source": [
    "Let us integrate this system for a few hundred years. An instability will occur. We can then measure the energy error, which is a good estimate as to how accurate the integration was."
   ]
  },
  {
   "cell_type": "code",
   "execution_count": 8,
   "metadata": {
    "collapsed": false,
    "deletable": true,
    "editable": true
   },
   "outputs": [
    {
     "name": "stdout",
     "output_type": "stream",
     "text": [
      "Relative energy error with WHFast: 42.011050\n"
     ]
    }
   ],
   "source": [
    "sim.integrate(600*2.*math.pi)\n",
    "E1 = sim.calculate_energy()\n",
    "print(\"Relative energy error with WHFast: %f\"%((E0-E1)/E0))"
   ]
  },
  {
   "cell_type": "markdown",
   "metadata": {
    "deletable": true,
    "editable": true
   },
   "source": [
    "An energy error that large means we basically go it wrong completely. Let's try this again but use MERCURIUS."
   ]
  },
  {
   "cell_type": "code",
   "execution_count": 9,
   "metadata": {
    "collapsed": false,
    "deletable": true,
    "editable": true
   },
   "outputs": [
    {
     "name": "stdout",
     "output_type": "stream",
     "text": [
      "Relative energy error with MERCURIUS: -1.629731e-07\n"
     ]
    }
   ],
   "source": [
    "sim = rebound.Simulation()\n",
    "rebound.data.add_outer_solar_system(sim) # add some particles for testing\n",
    "for i in range(1,sim.N):\n",
    "    sim.particles[i].m *= 50.\n",
    "sim.integrator = \"mercurius\" \n",
    "sim.dt = sim.particles[1].P * 0.002 # Timestep a small fraction of innermost planet's period\n",
    "sim.move_to_com()\n",
    "E0 = sim.calculate_energy() # Calculate initial energy \n",
    "sim.integrate(600*2.*math.pi)\n",
    "E1 = sim.calculate_energy()\n",
    "print(\"Relative energy error with MERCURIUS: %e\"%((E1-E0)/E0))"
   ]
  },
  {
   "cell_type": "markdown",
   "metadata": {
    "deletable": true,
    "editable": true
   },
   "source": [
    "As you can see MERCURIUS is able to integrate this system with much better accuracy. When a close encounter occurs, it automatically (and smoothly!) switches to the IAS15 integrator. When there is not close encounter, you still get all the benefits in terms of speed an accuracy from a symplectic integrator."
   ]
  },
  {
   "cell_type": "markdown",
   "metadata": {
    "deletable": true,
    "editable": true
   },
   "source": [
    "There are a few options to adjust MERCURIUS. First of all, because it uses IAS15 internally, you may want to set a minimal timestep for IAS15. This ensures that IAS15 never stalls while it is tries to resolve one very close encounter and can be done with the following command:"
   ]
  },
  {
   "cell_type": "code",
   "execution_count": 10,
   "metadata": {
    "collapsed": true,
    "deletable": true,
    "editable": true
   },
   "outputs": [],
   "source": [
    "# Sets the minimal timestep to a fraction of the global timestep\n",
    "sim.ri_ias15.min_dt = 1e-4 * sim.dt  "
   ]
  },
  {
   "cell_type": "markdown",
   "metadata": {
    "deletable": true,
    "editable": true
   },
   "source": [
    "You also may want to change the critical distance at which MERCURIUS switches over from pure WHFast to IAS15. This is expressed in units of Hill radii. The default is 3 Hill radii, in the following we change it to 5 Hill radii:"
   ]
  },
  {
   "cell_type": "code",
   "execution_count": 5,
   "metadata": {
    "collapsed": true,
    "deletable": true,
    "editable": true
   },
   "outputs": [],
   "source": [
    "sim.ri_mercurius.rcrit = 5"
   ]
  },
  {
   "cell_type": "markdown",
   "metadata": {
    "deletable": true,
    "editable": true
   },
   "source": [
    "Note that MERCURIUS is a relatively new integrator and there might still be bugs to iron out. If you notice any issue, please let us know, either by e-mail or by opening a GitHub issue."
   ]
  }
 ],
 "metadata": {
  "kernelspec": {
   "display_name": "Python 3",
   "language": "python",
   "name": "python3"
  },
  "language_info": {
   "codemirror_mode": {
    "name": "ipython",
    "version": 3
   },
   "file_extension": ".py",
   "mimetype": "text/x-python",
   "name": "python",
   "nbconvert_exporter": "python",
   "pygments_lexer": "ipython3",
   "version": "3.5.2"
  }
 },
 "nbformat": 4,
 "nbformat_minor": 2
}
